{
 "cells": [
  {
   "cell_type": "code",
   "execution_count": 180,
   "id": "1ea486da-48d6-4167-8b7c-fc73cf00fd03",
   "metadata": {},
   "outputs": [
    {
     "name": "stdout",
     "output_type": "stream",
     "text": [
      "Number of 'Good' labeled rows with any extreme value: 0\n"
     ]
    }
   ],
   "source": [
    "import pandas as pd\n",
    "\n",
    "# Load the dataset\n",
    "df = pd.read_csv(\"Cleaned_Good_WQI_Removed_Extremes.csv\")\n",
    "\n",
    "# Clean column names (remove unwanted characters and spaces)\n",
    "df.columns = df.columns.str.strip().str.replace('Â', '', regex=False)\n",
    "\n",
    "# Standardize label formatting\n",
    "df['WAWQI_Label'] = df['WAWQI_Label'].astype(str).str.strip().str.capitalize()\n",
    "\n",
    "# Ensure relevant columns are numeric\n",
    "columns = [\n",
    "    'Ammonia-Total (as N)',\n",
    "    'Conductivity @25°C',\n",
    "    'pH',\n",
    "    'Total Hardness (as CaCO3)'\n",
    "]\n",
    "df[columns] = df[columns].apply(pd.to_numeric, errors='coerce')\n",
    "\n",
    "# Filter only 'Good' labeled data\n",
    "good_df = df[df['WAWQI'] == 'Excellent']\n",
    "\n",
    "# Define extreme conditions (outside the acceptable range)\n",
    "extreme_condition = (\n",
    "    (good_df['Ammonia-Total (as N)'] < 0) | (good_df['Ammonia-Total (as N)'] > 0.099) |\n",
    "    (good_df['Conductivity @25°C'] < 0) | (good_df['Conductivity @25°C'] > 1200) |\n",
    "    (good_df['pH'] < 6.0) | (good_df['pH'] > 9.0) |\n",
    "    (good_df['Total Hardness (as CaCO3)'] < 0) | (good_df['Total Hardness (as CaCO3)'] > 600)\n",
    ")\n",
    "\n",
    "# Apply condition and count\n",
    "extreme_count = good_df[extreme_condition].shape[0]\n",
    "\n",
    "print(f\"Number of 'Good' labeled rows with any extreme value: {extreme_count}\")\n"
   ]
  },
  {
   "cell_type": "code",
   "execution_count": 139,
   "id": "26875742-a228-4959-9a41-8ac6ddb708ef",
   "metadata": {},
   "outputs": [
    {
     "name": "stdout",
     "output_type": "stream",
     "text": [
      "Total number of rows labeled 'Good': 456\n"
     ]
    }
   ],
   "source": [
    "# Count total rows with label 'Good'\n",
    "total_good = df[df['WAWQI'] == 'Poor'].shape[0]\n",
    "print(f\"Total number of rows labeled 'Good': {total_good}\")\n"
   ]
  },
  {
   "cell_type": "code",
   "execution_count": 140,
   "id": "fe7a638f-5365-47d9-81d4-18f7514d3749",
   "metadata": {},
   "outputs": [
    {
     "name": "stdout",
     "output_type": "stream",
     "text": [
      "Rows with invalid values in 'Good' label removed.\n",
      "New dataset shape: (8747, 6)\n"
     ]
    }
   ],
   "source": [
    "import pandas as pd\n",
    "\n",
    "# Load the dataset\n",
    "df = pd.read_csv(\"Cleaned_Good_WQI_Removed_Extremes.csv\")\n",
    "\n",
    "# Clean column names (remove unwanted characters and spaces)\n",
    "df.columns = df.columns.str.strip().str.replace('Â', '', regex=False)\n",
    "\n",
    "# Standardize label formatting\n",
    "df['WAWQI'] = df['WAWQI'].astype(str).str.strip().str.capitalize()\n",
    "\n",
    "# Ensure relevant columns are numeric\n",
    "columns = [\n",
    "    'Ammonia-Total (as N)',\n",
    "    'Conductivity @25°C',\n",
    "    'pH',\n",
    "    'Total Hardness (as CaCO3)'\n",
    "]\n",
    "df[columns] = df[columns].apply(pd.to_numeric, errors='coerce')\n",
    "\n",
    "# Define valid condition for 'Good' labeled rows\n",
    "valid_condition = (\n",
    "    (df['Ammonia-Total (as N)'] >= 0) & (df['Ammonia-Total (as N)'] <= 0.08) &\n",
    "    (df['Conductivity @25°C'] >= 100) & (df['Conductivity @25°C'] <= 350) &\n",
    "    (df['pH'] >= 7.0) & (df['pH'] <= 8.0) &\n",
    "    (df['Total Hardness (as CaCO3)'] >= 0) & (df['Total Hardness (as CaCO3)'] <= 250)\n",
    ")\n",
    "\n",
    "# Keep only valid 'Good' rows and all other labels\n",
    "df_cleaned = df[(df['WAWQI'] != 'Poor') | ((df['WAWQI'] == 'Poor') & valid_condition)]\n",
    "\n",
    "# Optional: Save cleaned data\n",
    "df_cleaned.to_csv(\"Cleaned_Good_WQI_Removed_Extremes.csv\", index=False)\n",
    "\n",
    "print(\"Rows with invalid values in 'Good' label removed.\")\n",
    "print(f\"New dataset shape: {df_cleaned.shape}\")\n"
   ]
  }
 ],
 "metadata": {
  "kernelspec": {
   "display_name": "Python 3 (ipykernel)",
   "language": "python",
   "name": "python3"
  },
  "language_info": {
   "codemirror_mode": {
    "name": "ipython",
    "version": 3
   },
   "file_extension": ".py",
   "mimetype": "text/x-python",
   "name": "python",
   "nbconvert_exporter": "python",
   "pygments_lexer": "ipython3",
   "version": "3.12.4"
  }
 },
 "nbformat": 4,
 "nbformat_minor": 5
}
